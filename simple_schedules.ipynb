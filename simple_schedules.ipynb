{
 "cells": [
  {
   "cell_type": "markdown",
   "id": "40833955-d5e3-4120-bb4d-f2690b94c2f3",
   "metadata": {},
   "source": [
    "## Two simple schedules"
   ]
  },
  {
   "cell_type": "code",
   "execution_count": null,
   "id": "232452cf-22b1-45e8-9a7e-dffa332c7da3",
   "metadata": {},
   "outputs": [],
   "source": [
    "# Begin - startup boilerplate code\n",
    "\n",
    "import pkgutil\n",
    "\n",
    "if 'fibertree_bootstrap' not in [pkg.name for pkg in pkgutil.iter_modules()]:\n",
    "  !python3 -m pip  install git+https://github.com/Fibertree-project/fibertree-bootstrap --quiet\n",
    "\n",
    "# End - startup boilerplate code\n",
    "\n",
    "\n",
    "from fibertree_bootstrap import *\n",
    "fibertree_bootstrap(style=\"tree\", animation='movie', logger=False)\n"
   ]
  },
  {
   "cell_type": "markdown",
   "id": "a9392eb0-0175-4f2d-a8ef-a41bdbd6c9bc",
   "metadata": {},
   "source": [
    "## Create a frontier\n",
    "\n",
    "Create a `frontier` tensor to be processed in parallel"
   ]
  },
  {
   "cell_type": "code",
   "execution_count": null,
   "id": "0d9221f6-959d-40f9-bea1-f31bcd31220a",
   "metadata": {},
   "outputs": [],
   "source": [
    "f = Tensor.fromUncompressed(name=\"frontier\",\n",
    "                            rank_ids=[\"V\"],\n",
    "                            root=[ 1, 2, 3, 4, 5, 6, 7, 8, 9, 10])\n",
    "displayTensor(f)\n",
    "\n"
   ]
  },
  {
   "cell_type": "code",
   "execution_count": null,
   "id": "922db9cc-38d9-4c60-9c27-857f32fb3028",
   "metadata": {},
   "outputs": [],
   "source": [
    "# Set the number of PEs\n",
    "\n",
    "PEs = 4"
   ]
  },
  {
   "cell_type": "markdown",
   "id": "7eea9592-a99a-4d81-b873-acac9e2cabdc",
   "metadata": {},
   "source": [
    "## **Dealing** - Parallel scheduling - type 1 \n",
    "\n",
    "Divide the work by the number of PEs then process each chunk in order.\n",
    "\n",
    "If one thinks of the `frontier` as a deck of cards, then this schedule is **dealing** out a sequence of *hands* of exactly one card to `PE` players and after each hand is dealt all the players play their *hand*.\n",
    "\n",
    "If **slip** is implemented in this schedule then it manifests as a player going on to the next hand ahead of the other players... This is not illustrated yet."
   ]
  },
  {
   "cell_type": "code",
   "execution_count": null,
   "id": "1977c960-aa1c-45d6-8ad0-d759c42f3775",
   "metadata": {},
   "outputs": [],
   "source": [
    "st1 = f.splitEqual(PEs)\n",
    "displayTensor(st1)"
   ]
  },
  {
   "cell_type": "markdown",
   "id": "6f1d781d-7839-4485-8525-d264f38726b4",
   "metadata": {},
   "source": [
    "### Dealing Animation\n",
    "\n",
    "Below is an animation of the **dealing** schedule. Note how load imbalance results because not all the players have a card in the last hand, so two PEs are idle in the last cycle."
   ]
  },
  {
   "cell_type": "code",
   "execution_count": null,
   "id": "83cac716-9ea4-4e93-a929-689633026a22",
   "metadata": {},
   "outputs": [],
   "source": [
    "# Show the parallelism\n",
    "\n",
    "canvas = createCanvas(f, st1)\n",
    "\n",
    "for v1_pos, (v1, st1_v0) in enumerate(st1):\n",
    "    for v0_pos, (v0, _) in enumerate(st1_v0):\n",
    "        canvas.addActivity((v0,), (v1, v0), spacetime=(v0_pos, v1_pos))\n",
    "        \n",
    "displayCanvas(canvas)"
   ]
  },
  {
   "cell_type": "markdown",
   "id": "f3d8238f-666d-48b3-9b79-1b147d324a3e",
   "metadata": {},
   "source": [
    "## **Cutting** - Parallel scheduling - type 2\n",
    "\n",
    "Schedule that divides the work and then processes the sequenntially in each fiber. To implement that in the fibertree language we have to do a series of manipulations of the frontier...\n",
    "\n",
    "\n",
    "If one thinks of the `frontier` as a deck of cards, then this schedule is **cutting** the deck into `PE` pieces and each of the `PE` players steps sequentially through their **cut** of the deck. \n",
    "\n",
    "If **slip** is implemented in this schedule then it manifests as each player going through their cut at their own pace.... This is not illustrated yet."
   ]
  },
  {
   "cell_type": "code",
   "execution_count": null,
   "id": "61d36ec8-6bd8-435b-bd1b-0f098cba91df",
   "metadata": {},
   "outputs": [],
   "source": [
    "import math\n",
    "\n",
    "partition_size = math.ceil(len(f.getRoot()) / PEs)\n",
    "\n",
    "print(f\"Partition size: {partition_size}\\n\")\n",
    "\n",
    "# Partition (but use relative coordinates, so the swap works)\n",
    "st2_split = f.splitEqual(partition_size, relativeCoords=True)\n",
    "print(\"\\n\\nSchedule split - note repeated coordinates in lower rank\")\n",
    "displayTensor(st2_split)\n",
    "\n",
    "# Swap the ranks so the parallel work appears in a single fiber\n",
    "st2 = st2_split.swapRanks()\n",
    "print(\"\\n\\nSchedule swapped - note again the repeated coordintes in lower rank\")\n",
    "displayTensor(st2)\n",
    "\n",
    "# Restore to absolute coordinates\n",
    "for v0, st2_v1 in st2:\n",
    "    st2_v1.updateCoords(lambda n, c, p: v0 + c)\n",
    "    \n",
    "print(\"\\n\\nFinal schedule - with original coordinates\")\n",
    "displayTensor(st2)"
   ]
  },
  {
   "cell_type": "markdown",
   "id": "2577ee1a-480b-4513-87ac-35dc74ca9e67",
   "metadata": {},
   "source": [
    "### Cutting animation\n",
    "\n",
    "Below is an animation of the **cutting** scheudule. Note how load impbance results from some **cuts** belong smaller than others, so that in this case one PE is idle for two cycles at the end.\n"
   ]
  },
  {
   "cell_type": "code",
   "execution_count": null,
   "id": "0d6ecfee-39ef-4328-8072-789832c4c1be",
   "metadata": {},
   "outputs": [],
   "source": [
    "# Show the parallelism\n",
    "\n",
    "canvas = createCanvas(f, st2)\n",
    "\n",
    "for v0_pos, (v0, st2_v1) in enumerate(st2):\n",
    "    for v1_pos, (v1, _) in enumerate(st2_v1):\n",
    "        canvas.addActivity((v1,), (v0, v1), spacetime=(v1_pos, v0_pos))\n",
    "        \n",
    "displayCanvas(canvas)"
   ]
  },
  {
   "cell_type": "code",
   "execution_count": null,
   "id": "5c50c5fa-e2f3-493e-bc00-54a6d194eefe",
   "metadata": {},
   "outputs": [],
   "source": []
  }
 ],
 "metadata": {
  "kernelspec": {
   "display_name": "Python 3 (ipykernel)",
   "language": "python",
   "name": "python3"
  },
  "language_info": {
   "codemirror_mode": {
    "name": "ipython",
    "version": 3
   },
   "file_extension": ".py",
   "mimetype": "text/x-python",
   "name": "python",
   "nbconvert_exporter": "python",
   "pygments_lexer": "ipython3",
   "version": "3.10.8"
  }
 },
 "nbformat": 4,
 "nbformat_minor": 5
}
