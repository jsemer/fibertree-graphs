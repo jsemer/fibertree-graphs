{
  "cells": [
    {
      "cell_type": "markdown",
      "metadata": {
        "id": "view-in-github",
        "colab_type": "text"
      },
      "source": [
        "<a href=\"https://colab.research.google.com/github/jsemer/fibertree-graphs/blob/main/gunrock_scheduling.ipynb\" target=\"_parent\"><img src=\"https://colab.research.google.com/assets/colab-badge.svg\" alt=\"Open In Colab\"/></a>"
      ]
    },
    {
      "cell_type": "markdown",
      "id": "DVEMUCVWG8Bk",
      "metadata": {
        "id": "DVEMUCVWG8Bk"
      },
      "source": [
        "# Graph scheduling\n",
        "\n",
        "This notebook is for exploring the scheduling of graph processing algorithms, especially schedules implemented by Gunrock.\n",
        "\n",
        "**Note:** this notebook is expected to be pushed from Google Colab, so to make sure of a consistent line of development make sure to launch from github (to get the latest version) make updates and push back to github - hopefully before anyone else pushes.\n",
        "\n",
        "Testing..."
      ]
    },
    {
      "cell_type": "code",
      "execution_count": null,
      "id": "03423be0-967f-4dce-afde-a57ff9aeb034",
      "metadata": {
        "id": "03423be0-967f-4dce-afde-a57ff9aeb034"
      },
      "outputs": [],
      "source": [
        "# Begin - startup boilerplate code\n",
        "\n",
        "import pkgutil\n",
        "\n",
        "if 'fibertree_bootstrap' not in [pkg.name for pkg in pkgutil.iter_modules()]:\n",
        "  !python3 -m pip  install git+https://github.com/Fibertree-project/fibertree-bootstrap --quiet\n",
        "\n",
        "# End - startup boilerplate code\n",
        "\n",
        "from fibertree_bootstrap import *\n",
        "fibertree_bootstrap(style=\"tree\", animation=\"movie\")"
      ]
    },
    {
      "cell_type": "markdown",
      "id": "4Bow0uC8HRzr",
      "metadata": {
        "id": "4Bow0uC8HRzr"
      },
      "source": [
        "## Create a graph described by an adjacency matrix"
      ]
    },
    {
      "cell_type": "code",
      "execution_count": null,
      "id": "386297a8-a4f6-4971-b3a5-0ed2f6a593f4",
      "metadata": {
        "id": "386297a8-a4f6-4971-b3a5-0ed2f6a593f4"
      },
      "outputs": [],
      "source": [
        "adj_matrix = [ [ 0, 1, 0, 1, 0, 0 ],\n",
        "              [ 1, 0, 1, 1, 1, 0],\n",
        "              [ 1, 0, 0, 1, 0, 1],\n",
        "              [ 0, 0, 1, 0, 1, 1],\n",
        "              [ 1, 1, 1, 1, 0, 1],\n",
        "             [ 1, 1, 0, 1, 1, 0]]\n",
        "\n",
        "g = Tensor.fromUncompressed(rank_ids=[\"S\", \"D\"],\n",
        "                            root=adj_matrix,\n",
        "                            name=\"G\",\n",
        "                            color=\"green\")\n",
        "\n",
        "displayGraph(g)\n",
        "displayTensor(g, style=\"uncompressed\")"
      ]
    },
    {
      "cell_type": "markdown",
      "id": "pHfMYTevHgoE",
      "metadata": {
        "id": "pHfMYTevHgoE"
      },
      "source": [
        "## Create a frontier"
      ]
    },
    {
      "cell_type": "code",
      "execution_count": null,
      "id": "cf8b2829-f747-4bf3-b1a3-5b3d5312ce81",
      "metadata": {
        "id": "cf8b2829-f747-4bf3-b1a3-5b3d5312ce81"
      },
      "outputs": [],
      "source": [
        "f = Tensor.fromUncompressed(rank_ids=[\"S\"],\n",
        "                            root=[1, 0, 1, 1, 0, 1],\n",
        "                            name=\"F\",\n",
        "                            color=\"blue\")\n",
        "\n",
        "displayTensor(f, style=\"uncompressed\")"
      ]
    },
    {
      "cell_type": "markdown",
      "id": "eAuKGVn1Hut8",
      "metadata": {
        "id": "eAuKGVn1Hut8"
      },
      "source": [
        "## Perform an \"advance\"\n",
        "Essentially equivalent to the Einsum: $Z_d = G_{s,d} \\times F_s$"
      ]
    },
    {
      "cell_type": "code",
      "execution_count": null,
      "id": "1e9d6a30-84ee-44ec-acf7-d77ed5ef51b4",
      "metadata": {
        "id": "1e9d6a30-84ee-44ec-acf7-d77ed5ef51b4"
      },
      "outputs": [],
      "source": [
        "z = Tensor(rank_ids=[\"D\"], shape=f.getShape())\n",
        "\n",
        "g_s = g.getRoot()\n",
        "f_s = f.getRoot()\n",
        "z_d = z.getRoot()\n",
        "\n",
        "canvas = createCanvas(f, g, z)\n",
        "\n",
        "task_id = 0\n",
        "for s, (g_d, f_val) in g_s & f_s:\n",
        "    for d, (z_ref, g_val) in z_d << g_d:\n",
        "        print(f\"Task {task_id}: s:{s}, d:{d}\")\n",
        "        z_ref <<= 1\n",
        "        task_id += 1\n",
        "        canvas.addActivity((s,), (s, d), (d,))\n",
        "\n",
        "print(\"New frontier\")\n",
        "displayTensor(z)\n",
        "\n",
        "print(\"\")\n",
        "displayCanvas(canvas)"
      ]
    },
    {
      "cell_type": "markdown",
      "id": "9DJoXIS4IbGO",
      "metadata": {
        "id": "9DJoXIS4IbGO"
      },
      "source": [
        "## Create \"advance\" tasks\n",
        "\n",
        "Run an \"advance\" function creating a tensor holding the \"task list\" for the computation"
      ]
    },
    {
      "cell_type": "code",
      "execution_count": null,
      "id": "3158c071-8e4c-4bde-a1de-bbcd3fbfdf24",
      "metadata": {
        "id": "3158c071-8e4c-4bde-a1de-bbcd3fbfdf24"
      },
      "outputs": [],
      "source": [
        "# Visualize the space time aspects\n",
        "ST = Tensor(name=\"ST\", rank_ids=[\"S\", \"D\"], shape=g.getShape())\n",
        "\n",
        "g_s = g.getRoot()\n",
        "f_s = f.getRoot()\n",
        "z_s = ST.getRoot()\n",
        "\n",
        "task_id = 0\n",
        "for s, (z_d, (g_d, f_val)) in z_s << (g_s & f_s):\n",
        "    for d, (z_ref, g_val) in z_d << g_d:\n",
        "        print(f\"Task {task_id}: s:{s}, d:{d}\")\n",
        "        z_ref <<= f\"T{task_id}\"\n",
        "        task_id += 1\n",
        "\n",
        "displayTensor(ST)"
      ]
    },
    {
      "cell_type": "markdown",
      "id": "VlET6yvCIkKL",
      "metadata": {
        "id": "VlET6yvCIkKL"
      },
      "source": [
        "## Create a schedule\n",
        "\n",
        "Modify the \"task tensor\" for form a schedule\n",
        "\n",
        "This schedule:\n",
        "- assign every OTHER task to a PE"
      ]
    },
    {
      "cell_type": "code",
      "execution_count": null,
      "id": "HYBg_nIc05dJ",
      "metadata": {
        "id": "HYBg_nIc05dJ"
      },
      "outputs": [],
      "source": [
        "st_flat = ST.flattenRanks()\n",
        "\n",
        "st_flat.setRankIds([\"Tasks\"] )   # Hack to allow `split()` to modify the rank name\n",
        "st_sched = st_flat.splitEqual(2)\n",
        "\n",
        "# Currently, the next line may crash due to a bug displaying \"tuple\" coordinates\n",
        "displayTensor(st_sched)"
      ]
    },
    {
      "cell_type": "code",
      "execution_count": null,
      "id": "b8QDS7rD4LBG",
      "metadata": {
        "id": "b8QDS7rD4LBG"
      },
      "outputs": [],
      "source": [
        "sched_top = st_sched.getRoot()\n",
        "\n",
        "g_s = g.getRoot()\n",
        "f_s = f.getRoot()\n",
        "\n",
        "w = Tensor(rank_ids=[\"D\"], shape=f.getShape())\n",
        "w_d = w.getRoot()\n",
        "\n",
        "canvas = createCanvas(f, g, z, ST)\n",
        "cycle = 0\n",
        "\n",
        "for top, task_group in sched_top:\n",
        "  for pe, ((s, d), _) in enumerate(task_group):\n",
        "    g_val = g_s.getPayload(s, d)\n",
        "    f_val = f_s.getPayload(s)\n",
        "    z_ref = z_d.getPayloadRef(d)\n",
        "    z_ref <<= g_val * f_val\n",
        "\n",
        "    canvas.addActivity((s,), (s, d), (d,), (s, d), spacetime=(pe, cycle ) )\n",
        "\n",
        "  cycle += 1\n",
        "\n",
        "\n",
        "\n",
        "displayCanvas(canvas)"
      ]
    },
    {
      "cell_type": "markdown",
      "source": [
        "# Schedule 2\n",
        "- In this schedule, we parallelize on the $s$ rank (similar to a *thread-mapped* schedule in Gunrock, where each thread is assigned a source vertex.)\n",
        "- **Question**: How do we account for schedules where the PEs are also assigned \"useless\" work; that is, pre-interesection work? Our current task list model doesn't account for this and instead generates task post-intersection. But some of the tasks may actually include intersection"
      ],
      "metadata": {
        "id": "iPtygJbeECKa"
      },
      "id": "iPtygJbeECKa"
    },
    {
      "cell_type": "code",
      "execution_count": null,
      "id": "ZfWoWJiw7C3a",
      "metadata": {
        "id": "ZfWoWJiw7C3a"
      },
      "outputs": [],
      "source": [
        "import copy\n",
        "st_on_s = copy.deepcopy(ST)\n",
        "\n",
        "st_on_s.setRankIds([\"Tasks\", \"D\"] )   # Hack to allow `split()` to modify the rank name\n",
        "#st_sched = st_flat.splitEqual(2)\n",
        "\n",
        "# Currently, the next line may crash due to a bug displaying \"tuple\" coordinates\n",
        "displayTensor(st_on_s)"
      ]
    },
    {
      "cell_type": "code",
      "execution_count": null,
      "id": "1e33dd76-a36f-42e1-9607-1fac2c671e2d",
      "metadata": {
        "id": "1e33dd76-a36f-42e1-9607-1fac2c671e2d"
      },
      "outputs": [],
      "source": [
        "sched_top = st_on_s.getRoot()\n",
        "\n",
        "g_s = g.getRoot()\n",
        "f_s = f.getRoot()\n",
        "\n",
        "# What is this being used for?\n",
        "w = Tensor(rank_ids=[\"D\"], shape=f.getShape())\n",
        "w_d = w.getRoot()\n",
        "\n",
        "canvas = createCanvas(f, g, z, ST)\n",
        "cycle = 0\n",
        "\n",
        "\n",
        "for pe, (s, task_group) in enumerate(sched_top): #parallel for\n",
        "  for d, _ in task_group: #sequential for\n",
        "    g_val = g_s.getPayload(s, d)\n",
        "    f_val = f_s.getPayload(s)\n",
        "    z_ref = z_d.getPayloadRef(d)\n",
        "    z_ref <<= g_val * f_val\n",
        "\n",
        "    canvas.addActivity((s,), (s, d), (d,), (s, d), spacetime=(pe, cycle ) )\n",
        "\n",
        "  #if pe % 2:\n",
        "    cycle += 1\n",
        "\n",
        "\n",
        "\n",
        "displayCanvas(canvas)"
      ]
    },
    {
      "cell_type": "code",
      "source": [
        "# split s in 2 first\n",
        "import copy\n",
        "st_on_s = ST.splitEqual(2)\n",
        "\n",
        "st_on_s.setRankIds([\"task_groups\", \"pe_id\", \"D\"])   # Hack to allow `split()` to modify the rank name\n",
        "#st_sched = st_flat.splitEqual(2)\n",
        "\n",
        "# Currently, the next line may crash due to a bug displaying \"tuple\" coordinates\n",
        "displayTensor(st_on_s)"
      ],
      "metadata": {
        "id": "HdATRXcTHWhq"
      },
      "id": "HdATRXcTHWhq",
      "execution_count": null,
      "outputs": []
    },
    {
      "cell_type": "code",
      "source": [
        "sched_top = st_on_s.getRoot()\n",
        "\n",
        "g_s = g.getRoot()\n",
        "f_s = f.getRoot()\n",
        "\n",
        "# What is this being used for?\n",
        "w = Tensor(rank_ids=[\"D\"], shape=f.getShape())\n",
        "w_d = w.getRoot()\n",
        "\n",
        "canvas = createCanvas(f, g, z, ST, st_on_s)\n",
        "cycle = 0\n",
        "\n",
        "# We only have 2 PEs, so we go through the top rank sequentially\n",
        "for cycles1, (top, task_group) in enumerate(sched_top): #sequential for\n",
        "  for pe, (s, tasks) in enumerate(task_group): #parallel for, pe can only be 0 or 1\n",
        "    for cycles0, (d, _) in enumerate(tasks): #sequential for\n",
        "      g_val = g_s.getPayload(s, d)\n",
        "      f_val = f_s.getPayload(s)\n",
        "      z_ref = z_d.getPayloadRef(d)\n",
        "      z_ref <<= g_val * f_val\n",
        "      #cycle += 1\n",
        "\n",
        "      canvas.addActivity((s,), (s, d), (d,), (s, d), (top, s, d), spacetime=(pe, (cycles1, cycles0) ) )\n",
        "\n",
        "  #if pe % 2:\n",
        "\n",
        "\n",
        "\n",
        "displayCanvas(canvas)"
      ],
      "metadata": {
        "id": "q4TmAoTDIIiB"
      },
      "id": "q4TmAoTDIIiB",
      "execution_count": null,
      "outputs": []
    }
  ],
  "metadata": {
    "colab": {
      "provenance": [],
      "include_colab_link": true
    },
    "kernelspec": {
      "display_name": "Python 3 (ipykernel)",
      "language": "python",
      "name": "python3"
    },
    "language_info": {
      "codemirror_mode": {
        "name": "ipython",
        "version": 3
      },
      "file_extension": ".py",
      "mimetype": "text/x-python",
      "name": "python",
      "nbconvert_exporter": "python",
      "pygments_lexer": "ipython3",
      "version": "3.10.8"
    }
  },
  "nbformat": 4,
  "nbformat_minor": 5
}