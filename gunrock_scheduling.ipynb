{
 "cells": [
  {
   "cell_type": "markdown",
   "id": "9324da32",
   "metadata": {
    "colab_type": "text",
    "id": "view-in-github"
   },
   "source": [
    "<a href=\"https://colab.research.google.com/github/jsemer/fibertree-graphs/blob/main/gunrock_scheduling.ipynb\" target=\"_parent\"><img src=\"https://colab.research.google.com/assets/colab-badge.svg\" alt=\"Open In Colab\"/></a>"
   ]
  },
  {
   "cell_type": "markdown",
   "id": "DVEMUCVWG8Bk",
   "metadata": {
    "id": "DVEMUCVWG8Bk"
   },
   "source": [
    "# Graph scheduling\n",
    "\n",
    "This notebook is for exploring the scheduling of graph processing algorithms especially schedules implemented by Gunrock.\n",
    "\n",
    "**Note:** this notebook is expected to be pushed from Google Colab, so to make sure of a consistent line of development make sure to launch from github (to get the latest version) make updates and push back to github - hopefully before anyone else pushes. "
   ]
  },
  {
   "cell_type": "code",
   "execution_count": null,
   "id": "03423be0-967f-4dce-afde-a57ff9aeb034",
   "metadata": {
    "colab": {
     "base_uri": "https://localhost:8080/",
     "height": 81,
     "referenced_widgets": [
      "74099277ff3242acb436f921583a0aea",
      "f815b336edd445f5a6465980a473e58b",
      "475c40dd143544e09b916c348c95c43c",
      "075b96d337934adb888e35875af0f905",
      "3aadaa2195074fc6a774c4bdf549bfbf",
      "e9e0ca7614744cf9ba1c6fd309b1fc2d",
      "0634b3ecec694ac7b2fdf3d813bc89d8",
      "0fd2f298ef5f44f18ff89292d45f9ed6",
      "83a3b21535df40d0b10ad0e5b813858e",
      "65d83c9ef92a4fa3963755190f10a0d6"
     ]
    },
    "id": "03423be0-967f-4dce-afde-a57ff9aeb034",
    "outputId": "b93d9d60-9e69-4312-a535-7a9359431472"
   },
   "outputs": [],
   "source": [
    "# Begin - startup boilerplate code\n",
    "\n",
    "import pkgutil\n",
    "\n",
    "if 'fibertree_bootstrap' not in [pkg.name for pkg in pkgutil.iter_modules()]:\n",
    "  !python3 -m pip  install git+https://github.com/Fibertree-project/fibertree-bootstrap --quiet\n",
    "\n",
    "# End - startup boilerplate code\n",
    "\n",
    "from fibertree_bootstrap import *\n",
    "fibertree_bootstrap(style=\"tree\", animation=\"movie\")"
   ]
  },
  {
   "cell_type": "markdown",
   "id": "4Bow0uC8HRzr",
   "metadata": {
    "id": "4Bow0uC8HRzr"
   },
   "source": [
    "## Create a graph described by an adjacency matrix"
   ]
  },
  {
   "cell_type": "code",
   "execution_count": null,
   "id": "386297a8-a4f6-4971-b3a5-0ed2f6a593f4",
   "metadata": {
    "colab": {
     "base_uri": "https://localhost:8080/",
     "height": 698
    },
    "id": "386297a8-a4f6-4971-b3a5-0ed2f6a593f4",
    "outputId": "86665a71-95c4-43f7-93b2-cafe21289925"
   },
   "outputs": [],
   "source": [
    "adj_matrix = [ [ 0, 1, 0, 1, 0, 0 ],\n",
    "              [ 1, 0, 1, 1, 1, 0],\n",
    "              [ 1, 0, 0, 1, 0, 1],\n",
    "              [ 0, 0, 1, 0, 1, 1],\n",
    "              [ 1, 1, 1, 1, 0, 1],\n",
    "             [ 1, 1, 0, 1, 1, 0]]\n",
    "g = Tensor.fromUncompressed([\"S\", \"D\"], adj_matrix)\n",
    "displayGraph(g)\n",
    "displayTensor(g)"
   ]
  },
  {
   "cell_type": "markdown",
   "id": "pHfMYTevHgoE",
   "metadata": {
    "id": "pHfMYTevHgoE"
   },
   "source": [
    "## Create a frontier"
   ]
  },
  {
   "cell_type": "code",
   "execution_count": null,
   "id": "cf8b2829-f747-4bf3-b1a3-5b3d5312ce81",
   "metadata": {
    "colab": {
     "base_uri": "https://localhost:8080/",
     "height": 267
    },
    "id": "cf8b2829-f747-4bf3-b1a3-5b3d5312ce81",
    "outputId": "f32cddc4-e09d-483b-a5c0-3a94840a19fb"
   },
   "outputs": [],
   "source": [
    "f = Tensor.fromUncompressed([\"S\"], [1, 0, 1, 1, 0, 1])\n",
    "displayTensor(f)"
   ]
  },
  {
   "cell_type": "markdown",
   "id": "eAuKGVn1Hut8",
   "metadata": {
    "id": "eAuKGVn1Hut8"
   },
   "source": [
    "## Perform an \"advance\"\n",
    "\n",
    "Essentially equivalent to the Einsum: $Z_d = G_{s,d} \\times F_s$"
   ]
  },
  {
   "cell_type": "code",
   "execution_count": null,
   "id": "1e9d6a30-84ee-44ec-acf7-d77ed5ef51b4",
   "metadata": {
    "colab": {
     "base_uri": "https://localhost:8080/"
    },
    "id": "1e9d6a30-84ee-44ec-acf7-d77ed5ef51b4",
    "outputId": "c0058a40-e0d6-47d9-ef45-5a7735207574"
   },
   "outputs": [],
   "source": [
    "z = Tensor(rank_ids=[\"D\"], shape=f.getShape())\n",
    "\n",
    "g_s = g.getRoot()\n",
    "f_s = f.getRoot()\n",
    "z_d = z.getRoot()\n",
    "\n",
    "task_id = 0\n",
    "for s, (g_d, f_val) in g_s & f_s:\n",
    "    for d, (z_ref, g_val) in z_d << g_d:\n",
    "        print(f\"Task {task_id}: s:{s}, d:{d}\")\n",
    "        z_ref <<= 1\n",
    "        task_id += 1"
   ]
  },
  {
   "cell_type": "markdown",
   "id": "9DJoXIS4IbGO",
   "metadata": {
    "id": "9DJoXIS4IbGO"
   },
   "source": [
    "## Create \"advance\" tasks\n",
    "\n",
    "Run an \"advance\" function creating a tensor holding the \"task list\" for the computation"
   ]
  },
  {
   "cell_type": "code",
   "execution_count": null,
   "id": "3158c071-8e4c-4bde-a1de-bbcd3fbfdf24",
   "metadata": {
    "colab": {
     "base_uri": "https://localhost:8080/",
     "height": 503
    },
    "id": "3158c071-8e4c-4bde-a1de-bbcd3fbfdf24",
    "outputId": "25261795-0291-47e8-de6c-c1ab6ffc5e2c"
   },
   "outputs": [],
   "source": [
    "# Visualize the space time aspects\n",
    "ST = Tensor(name=\"ST\", rank_ids=[\"S\", \"D\"], )\n",
    "\n",
    "g_s = g.getRoot()\n",
    "f_s = f.getRoot()\n",
    "z_s = ST.getRoot()\n",
    "\n",
    "task_id = 0\n",
    "for s, (z_d, (g_d, f_val)) in z_s << (g_s & f_s):\n",
    "    for d, (z_ref, g_val) in z_d << g_d:\n",
    "        print(f\"Task {task_id}: s:{s}, d:{d}\")\n",
    "        z_ref <<= f\"T{task_id}\"\n",
    "        task_id += 1\n",
    "\n",
    "displayTensor(ST)"
   ]
  },
  {
   "cell_type": "markdown",
   "id": "VlET6yvCIkKL",
   "metadata": {
    "id": "VlET6yvCIkKL"
   },
   "source": [
    "## Create a schedule\n",
    "\n",
    "Modify the \"task tensor\" for form a schedule"
   ]
  },
  {
   "cell_type": "code",
   "execution_count": null,
   "id": "HYBg_nIc05dJ",
   "metadata": {
    "colab": {
     "base_uri": "https://localhost:8080/",
     "height": 266
    },
    "id": "HYBg_nIc05dJ",
    "outputId": "805136fe-f429-4678-db14-a9a9ea1ea226"
   },
   "outputs": [],
   "source": [
    "st_flat = ST.flattenRanks()\n",
    "\n",
    "st_flat.setRankIds([\"Tasks\"] )   # Hack to allow `split()` to modify the rank name\n",
    "st_sched = st_flat.splitEqual(2)\n",
    "\n",
    "# Currently, the next line may crash due to a bug displaying \"tuple\" coordinates\n",
    "displayTensor(st_sched)"
   ]
  },
  {
   "cell_type": "code",
   "execution_count": null,
   "id": "b8QDS7rD4LBG",
   "metadata": {
    "colab": {
     "base_uri": "https://localhost:8080/",
     "height": 369
    },
    "id": "b8QDS7rD4LBG",
    "outputId": "bfed195b-c4c3-43a4-fba0-4d21184b76c1"
   },
   "outputs": [],
   "source": [
    "sched_top = st_sched.getRoot()\n",
    "\n",
    "g_s = g.getRoot()\n",
    "f_s = f.getRoot()\n",
    "\n",
    "w = Tensor(rank_ids=[\"D\"], shape=f.getShape())\n",
    "w_d = w.getRoot()\n",
    "\n",
    "canvas = createCanvas(f, g, z)\n",
    "cycle = 0\n",
    "\n",
    "for top, task_group in sched_top:\n",
    "  for pe, ((s, d), _) in enumerate(task_group):\n",
    "    g_val = g_s.getPayload(s, d)\n",
    "    f_val = f_s.getPayload(s)\n",
    "    z_ref = z_d.getPayloadRef(d)\n",
    "    z_ref <<= g_val * f_val\n",
    "\n",
    "    canvas.addActivity((s,), (s, d), (d,), spacetime=(pe, cycle ) )\n",
    "\n",
    "  cycle += 1\n",
    "\n",
    "\n",
    "\n",
    "displayCanvas(canvas)"
   ]
  },
  {
   "cell_type": "code",
   "execution_count": null,
   "id": "ZfWoWJiw7C3a",
   "metadata": {
    "id": "ZfWoWJiw7C3a"
   },
   "outputs": [],
   "source": []
  },
  {
   "cell_type": "code",
   "execution_count": null,
   "id": "1e33dd76-a36f-42e1-9607-1fac2c671e2d",
   "metadata": {},
   "outputs": [],
   "source": []
  }
 ],
 "metadata": {
  "colab": {
   "include_colab_link": true,
   "provenance": []
  },
  "kernelspec": {
   "display_name": "Python 3 (ipykernel)",
   "language": "python",
   "name": "python3"
  },
  "language_info": {
   "codemirror_mode": {
    "name": "ipython",
    "version": 3
   },
   "file_extension": ".py",
   "mimetype": "text/x-python",
   "name": "python",
   "nbconvert_exporter": "python",
   "pygments_lexer": "ipython3",
   "version": "3.10.8"
  },
  "widgets": {
   "application/vnd.jupyter.widget-state+json": {
    "0634b3ecec694ac7b2fdf3d813bc89d8": {
     "model_module": "@jupyter-widgets/controls",
     "model_module_version": "1.5.0",
     "model_name": "DescriptionStyleModel",
     "state": {
      "_model_module": "@jupyter-widgets/controls",
      "_model_module_version": "1.5.0",
      "_model_name": "DescriptionStyleModel",
      "_view_count": null,
      "_view_module": "@jupyter-widgets/base",
      "_view_module_version": "1.2.0",
      "_view_name": "StyleView",
      "description_width": ""
     }
    },
    "075b96d337934adb888e35875af0f905": {
     "model_module": "@jupyter-widgets/output",
     "model_module_version": "1.0.0",
     "model_name": "OutputModel",
     "state": {
      "_dom_classes": [],
      "_model_module": "@jupyter-widgets/output",
      "_model_module_version": "1.0.0",
      "_model_name": "OutputModel",
      "_view_count": null,
      "_view_module": "@jupyter-widgets/output",
      "_view_module_version": "1.0.0",
      "_view_name": "OutputView",
      "layout": "IPY_MODEL_65d83c9ef92a4fa3963755190f10a0d6",
      "msg_id": "",
      "outputs": []
     }
    },
    "0fd2f298ef5f44f18ff89292d45f9ed6": {
     "model_module": "@jupyter-widgets/base",
     "model_module_version": "1.2.0",
     "model_name": "LayoutModel",
     "state": {
      "_model_module": "@jupyter-widgets/base",
      "_model_module_version": "1.2.0",
      "_model_name": "LayoutModel",
      "_view_count": null,
      "_view_module": "@jupyter-widgets/base",
      "_view_module_version": "1.2.0",
      "_view_name": "LayoutView",
      "align_content": null,
      "align_items": null,
      "align_self": null,
      "border": null,
      "bottom": null,
      "display": null,
      "flex": null,
      "flex_flow": null,
      "grid_area": null,
      "grid_auto_columns": null,
      "grid_auto_flow": null,
      "grid_auto_rows": null,
      "grid_column": null,
      "grid_gap": null,
      "grid_row": null,
      "grid_template_areas": null,
      "grid_template_columns": null,
      "grid_template_rows": null,
      "height": null,
      "justify_content": null,
      "justify_items": null,
      "left": null,
      "margin": null,
      "max_height": null,
      "max_width": null,
      "min_height": null,
      "min_width": null,
      "object_fit": null,
      "object_position": null,
      "order": null,
      "overflow": null,
      "overflow_x": null,
      "overflow_y": null,
      "padding": null,
      "right": null,
      "top": null,
      "visibility": null,
      "width": null
     }
    },
    "3aadaa2195074fc6a774c4bdf549bfbf": {
     "model_module": "@jupyter-widgets/base",
     "model_module_version": "1.2.0",
     "model_name": "LayoutModel",
     "state": {
      "_model_module": "@jupyter-widgets/base",
      "_model_module_version": "1.2.0",
      "_model_name": "LayoutModel",
      "_view_count": null,
      "_view_module": "@jupyter-widgets/base",
      "_view_module_version": "1.2.0",
      "_view_name": "LayoutView",
      "align_content": null,
      "align_items": null,
      "align_self": null,
      "border": null,
      "bottom": null,
      "display": null,
      "flex": null,
      "flex_flow": null,
      "grid_area": null,
      "grid_auto_columns": null,
      "grid_auto_flow": null,
      "grid_auto_rows": null,
      "grid_column": null,
      "grid_gap": null,
      "grid_row": null,
      "grid_template_areas": null,
      "grid_template_columns": null,
      "grid_template_rows": null,
      "height": null,
      "justify_content": null,
      "justify_items": null,
      "left": null,
      "margin": null,
      "max_height": null,
      "max_width": null,
      "min_height": null,
      "min_width": null,
      "object_fit": null,
      "object_position": null,
      "order": null,
      "overflow": null,
      "overflow_x": null,
      "overflow_y": null,
      "padding": null,
      "right": null,
      "top": null,
      "visibility": null,
      "width": null
     }
    },
    "475c40dd143544e09b916c348c95c43c": {
     "model_module": "@jupyter-widgets/controls",
     "model_module_version": "1.5.0",
     "model_name": "DropdownModel",
     "state": {
      "_dom_classes": [],
      "_model_module": "@jupyter-widgets/controls",
      "_model_module_version": "1.5.0",
      "_model_name": "DropdownModel",
      "_options_labels": [
       "none",
       "movie",
       "spacetime"
      ],
      "_view_count": null,
      "_view_module": "@jupyter-widgets/controls",
      "_view_module_version": "1.5.0",
      "_view_name": "DropdownView",
      "description": "animation",
      "description_tooltip": null,
      "disabled": false,
      "index": 1,
      "layout": "IPY_MODEL_0fd2f298ef5f44f18ff89292d45f9ed6",
      "style": "IPY_MODEL_83a3b21535df40d0b10ad0e5b813858e"
     }
    },
    "65d83c9ef92a4fa3963755190f10a0d6": {
     "model_module": "@jupyter-widgets/base",
     "model_module_version": "1.2.0",
     "model_name": "LayoutModel",
     "state": {
      "_model_module": "@jupyter-widgets/base",
      "_model_module_version": "1.2.0",
      "_model_name": "LayoutModel",
      "_view_count": null,
      "_view_module": "@jupyter-widgets/base",
      "_view_module_version": "1.2.0",
      "_view_name": "LayoutView",
      "align_content": null,
      "align_items": null,
      "align_self": null,
      "border": null,
      "bottom": null,
      "display": null,
      "flex": null,
      "flex_flow": null,
      "grid_area": null,
      "grid_auto_columns": null,
      "grid_auto_flow": null,
      "grid_auto_rows": null,
      "grid_column": null,
      "grid_gap": null,
      "grid_row": null,
      "grid_template_areas": null,
      "grid_template_columns": null,
      "grid_template_rows": null,
      "height": null,
      "justify_content": null,
      "justify_items": null,
      "left": null,
      "margin": null,
      "max_height": null,
      "max_width": null,
      "min_height": null,
      "min_width": null,
      "object_fit": null,
      "object_position": null,
      "order": null,
      "overflow": null,
      "overflow_x": null,
      "overflow_y": null,
      "padding": null,
      "right": null,
      "top": null,
      "visibility": null,
      "width": null
     }
    },
    "74099277ff3242acb436f921583a0aea": {
     "model_module": "@jupyter-widgets/controls",
     "model_module_version": "1.5.0",
     "model_name": "VBoxModel",
     "state": {
      "_dom_classes": [
       "widget-interact"
      ],
      "_model_module": "@jupyter-widgets/controls",
      "_model_module_version": "1.5.0",
      "_model_name": "VBoxModel",
      "_view_count": null,
      "_view_module": "@jupyter-widgets/controls",
      "_view_module_version": "1.5.0",
      "_view_name": "VBoxView",
      "box_style": "",
      "children": [
       "IPY_MODEL_f815b336edd445f5a6465980a473e58b",
       "IPY_MODEL_475c40dd143544e09b916c348c95c43c",
       "IPY_MODEL_075b96d337934adb888e35875af0f905"
      ],
      "layout": "IPY_MODEL_3aadaa2195074fc6a774c4bdf549bfbf"
     }
    },
    "83a3b21535df40d0b10ad0e5b813858e": {
     "model_module": "@jupyter-widgets/controls",
     "model_module_version": "1.5.0",
     "model_name": "DescriptionStyleModel",
     "state": {
      "_model_module": "@jupyter-widgets/controls",
      "_model_module_version": "1.5.0",
      "_model_name": "DescriptionStyleModel",
      "_view_count": null,
      "_view_module": "@jupyter-widgets/base",
      "_view_module_version": "1.2.0",
      "_view_name": "StyleView",
      "description_width": ""
     }
    },
    "e9e0ca7614744cf9ba1c6fd309b1fc2d": {
     "model_module": "@jupyter-widgets/base",
     "model_module_version": "1.2.0",
     "model_name": "LayoutModel",
     "state": {
      "_model_module": "@jupyter-widgets/base",
      "_model_module_version": "1.2.0",
      "_model_name": "LayoutModel",
      "_view_count": null,
      "_view_module": "@jupyter-widgets/base",
      "_view_module_version": "1.2.0",
      "_view_name": "LayoutView",
      "align_content": null,
      "align_items": null,
      "align_self": null,
      "border": null,
      "bottom": null,
      "display": null,
      "flex": null,
      "flex_flow": null,
      "grid_area": null,
      "grid_auto_columns": null,
      "grid_auto_flow": null,
      "grid_auto_rows": null,
      "grid_column": null,
      "grid_gap": null,
      "grid_row": null,
      "grid_template_areas": null,
      "grid_template_columns": null,
      "grid_template_rows": null,
      "height": null,
      "justify_content": null,
      "justify_items": null,
      "left": null,
      "margin": null,
      "max_height": null,
      "max_width": null,
      "min_height": null,
      "min_width": null,
      "object_fit": null,
      "object_position": null,
      "order": null,
      "overflow": null,
      "overflow_x": null,
      "overflow_y": null,
      "padding": null,
      "right": null,
      "top": null,
      "visibility": null,
      "width": null
     }
    },
    "f815b336edd445f5a6465980a473e58b": {
     "model_module": "@jupyter-widgets/controls",
     "model_module_version": "1.5.0",
     "model_name": "DropdownModel",
     "state": {
      "_dom_classes": [],
      "_model_module": "@jupyter-widgets/controls",
      "_model_module_version": "1.5.0",
      "_model_name": "DropdownModel",
      "_options_labels": [
       "tree",
       "uncompressed",
       "tree+uncompressed"
      ],
      "_view_count": null,
      "_view_module": "@jupyter-widgets/controls",
      "_view_module_version": "1.5.0",
      "_view_name": "DropdownView",
      "description": "style",
      "description_tooltip": null,
      "disabled": false,
      "index": 0,
      "layout": "IPY_MODEL_e9e0ca7614744cf9ba1c6fd309b1fc2d",
      "style": "IPY_MODEL_0634b3ecec694ac7b2fdf3d813bc89d8"
     }
    }
   }
  }
 },
 "nbformat": 4,
 "nbformat_minor": 5
}
